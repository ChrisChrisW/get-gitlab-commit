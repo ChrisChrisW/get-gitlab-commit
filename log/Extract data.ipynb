{
 "cells": [
  {
   "cell_type": "markdown",
   "id": "55f972fd",
   "metadata": {},
   "source": [
    "# Git Repository Author Analysis and Email Extraction."
   ]
  },
  {
   "cell_type": "markdown",
   "id": "c57dc992",
   "metadata": {},
   "source": [
    "## Import libraries"
   ]
  },
  {
   "cell_type": "code",
   "execution_count": 309,
   "id": "f3518889",
   "metadata": {},
   "outputs": [],
   "source": [
    "import pandas as pd\n",
    "import matplotlib.pyplot as plt"
   ]
  },
  {
   "cell_type": "markdown",
   "id": "aca4ef12",
   "metadata": {},
   "source": [
    "## Upload path"
   ]
  },
  {
   "cell_type": "code",
   "execution_count": 310,
   "id": "d712222a",
   "metadata": {},
   "outputs": [],
   "source": [
    "upload_path = \"./output/\""
   ]
  },
  {
   "cell_type": "markdown",
   "id": "bbdfcab3",
   "metadata": {},
   "source": [
    "## Load data from a CSV file"
   ]
  },
  {
   "cell_type": "code",
   "execution_count": 311,
   "id": "0c52002c",
   "metadata": {},
   "outputs": [],
   "source": [
    "data = pd.read_csv(\"./data/log.csv\")"
   ]
  },
  {
   "cell_type": "code",
   "execution_count": null,
   "id": "fc205b4d",
   "metadata": {},
   "outputs": [],
   "source": [
    "data.head()"
   ]
  },
  {
   "cell_type": "markdown",
   "id": "027a5f60",
   "metadata": {},
   "source": []
  },
  {
   "cell_type": "markdown",
   "id": "295321e0",
   "metadata": {},
   "source": [
    "## Rename authors for consistency"
   ]
  },
  {
   "cell_type": "code",
   "execution_count": null,
   "id": "5f011c5b",
   "metadata": {},
   "outputs": [],
   "source": [
    "data.groupby(\"Author Name\").count()"
   ]
  },
  {
   "cell_type": "markdown",
   "id": "79aa6379",
   "metadata": {},
   "source": [
    "### rename if necessary"
   ]
  },
  {
   "cell_type": "code",
   "execution_count": 316,
   "id": "b99e459c",
   "metadata": {},
   "outputs": [],
   "source": [
    "data.loc[data[\"Author Name\"].isin([\"Name 1\", \"Name 2\"]), \"Author Name\"] = \"Main Name\""
   ]
  },
  {
   "cell_type": "markdown",
   "id": "5bf96d8d",
   "metadata": {},
   "source": [
    "### check"
   ]
  },
  {
   "cell_type": "code",
   "execution_count": null,
   "id": "e54b876c",
   "metadata": {},
   "outputs": [],
   "source": [
    "data.groupby(\"Author Name\").count()"
   ]
  },
  {
   "cell_type": "markdown",
   "id": "0bcbfd94",
   "metadata": {},
   "source": [
    "## Count the number of commits per author"
   ]
  },
  {
   "cell_type": "code",
   "execution_count": 338,
   "id": "3568b294",
   "metadata": {},
   "outputs": [],
   "source": [
    "data[\"Commit nb\"] = data[\"Commit Hash\"]"
   ]
  },
  {
   "cell_type": "code",
   "execution_count": 339,
   "id": "6332cbb7",
   "metadata": {},
   "outputs": [],
   "source": [
    "commit_counts = data.groupby('Author Name')['Commit nb'].count().reset_index()"
   ]
  },
  {
   "cell_type": "code",
   "execution_count": null,
   "id": "a6cf1bd8",
   "metadata": {},
   "outputs": [],
   "source": [
    "commit_counts.rename(columns={\"Commit nb\": \"Commit Count\"}, inplace=True)\n",
    "commit_counts"
   ]
  },
  {
   "cell_type": "markdown",
   "id": "d152700a",
   "metadata": {},
   "source": [
    "## Plot a histogram to visualize the commit counts for each author\n",
    " "
   ]
  },
  {
   "cell_type": "code",
   "execution_count": null,
   "id": "b308ec79",
   "metadata": {},
   "outputs": [],
   "source": [
    "display(commit_counts[\"Author Name\"])\n",
    "display(commit_counts[\"Commit Commit Count\"])"
   ]
  },
  {
   "cell_type": "markdown",
   "id": "b4543723",
   "metadata": {},
   "source": [
    "### Export the histogram as an image file (e.g., PNG)"
   ]
  },
  {
   "cell_type": "code",
   "execution_count": null,
   "id": "bc806067",
   "metadata": {},
   "outputs": [],
   "source": [
    "plt.figure(figsize=(12, 4))\n",
    "plt.bar(commit_counts[\"Author Name\"], commit_counts[\"Commit Count\"])\n",
    "plt.xlabel('Author Name')\n",
    "plt.ylabel('Commit Count')\n",
    "plt.title('Commit Count per Author')\n",
    "plt.xticks(rotation=0)\n",
    "\n",
    "for x, y in zip(commit_counts[\"Author Name\"], commit_counts[\"Commit Count\"]):\n",
    "    plt.text(x, y, str(y), ha=\"center\", va=\"bottom\")\n",
    "    \n",
    "plt.savefig(f'{upload_path}commit_count_histogram.png')\n",
    "plt.show()\n",
    "print(\"Plot exported.\")"
   ]
  },
  {
   "cell_type": "markdown",
   "id": "9415e293",
   "metadata": {},
   "source": [
    "## Generate a pie chart to show the contribution of all authors"
   ]
  },
  {
   "cell_type": "code",
   "execution_count": 343,
   "id": "fe22aa3d",
   "metadata": {},
   "outputs": [],
   "source": [
    "# Data\n",
    "author_names = author_data[\"Author Name\"]\n",
    "commit_counts = author_data[\"Commit nb\"]"
   ]
  },
  {
   "cell_type": "markdown",
   "id": "7fee370c",
   "metadata": {},
   "source": [
    "### Export the pie chart as an image file (e.g., PNG)"
   ]
  },
  {
   "cell_type": "code",
   "execution_count": null,
   "id": "6d04e5f3",
   "metadata": {},
   "outputs": [],
   "source": [
    "# Create a pie chart to show the contribution of all authors\n",
    "plt.figure(figsize=(6, 6))  # Adjust the figure size as needed\n",
    "plt.pie(commit_counts, labels=author_names, autopct='%1.1f%%', startangle=140)\n",
    "plt.axis('equal')  # Equal aspect ratio ensures that pie is drawn as a circle.\n",
    "plt.title('Contribution of Authors')\n",
    "\n",
    "# Add a legend to the right\n",
    "# plt.legend(author_names, loc='center left', bbox_to_anchor=(1, 1))\n",
    "\n",
    "plt.savefig(f'{upload_path}contribution_pie_chart.png')\n",
    "\n",
    "print(\"Plot exported.\")\n",
    "\n",
    "plt.show()"
   ]
  },
  {
   "cell_type": "markdown",
   "id": "697685e5",
   "metadata": {},
   "source": [
    "## Extract and display author emails\n",
    "\n",
    "### Display author emails"
   ]
  },
  {
   "cell_type": "code",
   "execution_count": null,
   "id": "9706de47",
   "metadata": {},
   "outputs": [],
   "source": [
    "email_data = data.groupby([\"Author Name\", \"Author Email\"])['Commit nb'].count()\n",
    "\n",
    "# Get each author's emails\n",
    "author_emails = {}\n",
    "for author_name, _ in email_data.index:\n",
    "    if author_name not in author_emails:\n",
    "        author_emails[author_name] = email_data.loc[author_name].index.tolist()\n",
    "\n",
    "# Display the emails by author name with better formatting\n",
    "for author_name, emails in author_emails.items():\n",
    "    print(\"------------------------------------------------\")\n",
    "    print(f\"Author Name: {author_name}\")\n",
    "    print(\"Author Emails:\")\n",
    "    for email in emails:\n",
    "        print(f\"  - {email}\")\n",
    "    print(\"------------------------------------------------\")\n",
    "    print()\n"
   ]
  },
  {
   "cell_type": "markdown",
   "id": "29cb7c22",
   "metadata": {},
   "source": [
    "###  Get author name and email"
   ]
  },
  {
   "cell_type": "code",
   "execution_count": 346,
   "id": "fb9d2a3f",
   "metadata": {},
   "outputs": [],
   "source": [
    "email_data = data.groupby([\"Author Name\", \"Author Email\"])['Commit nb'].count()\n",
    "\n",
    "author_emails = {}\n",
    "for author_name, _ in email_data.index:\n",
    "    if author_name not in author_emails:\n",
    "        author_emails[author_name] = email_data.loc[author_name].index.tolist()\n",
    "\n",
    "# author_emails"
   ]
  },
  {
   "cell_type": "markdown",
   "id": "48571063",
   "metadata": {},
   "source": [
    "### Export in author_emails.txt"
   ]
  },
  {
   "cell_type": "code",
   "execution_count": null,
   "id": "10e13a5a",
   "metadata": {},
   "outputs": [],
   "source": [
    "# Export author emails to a text file\n",
    "with open(f'{upload_path}author_emails.txt', 'w') as file:\n",
    "    for author_name, emails in author_emails.items():\n",
    "        file.write(f\"Author: {author_name}\\n\")\n",
    "        file.write(\"Emails:\\n\")\n",
    "        for email in emails:\n",
    "            file.write(f\"  - {email}\\n\")\n",
    "        file.write(\"\\n\")\n",
    "        \n",
    "print(\"Author emails exported.\")"
   ]
  },
  {
   "cell_type": "code",
   "execution_count": null,
   "id": "9d46c17b",
   "metadata": {},
   "outputs": [],
   "source": []
  },
  {
   "cell_type": "code",
   "execution_count": null,
   "id": "d92aa1cf",
   "metadata": {},
   "outputs": [],
   "source": []
  },
  {
   "cell_type": "code",
   "execution_count": null,
   "id": "fe420107",
   "metadata": {},
   "outputs": [],
   "source": []
  },
  {
   "cell_type": "code",
   "execution_count": null,
   "id": "c6e129a2",
   "metadata": {},
   "outputs": [],
   "source": []
  },
  {
   "cell_type": "code",
   "execution_count": null,
   "id": "c94a8cd8",
   "metadata": {},
   "outputs": [],
   "source": []
  },
  {
   "cell_type": "code",
   "execution_count": null,
   "id": "930bc4eb",
   "metadata": {},
   "outputs": [],
   "source": []
  }
 ],
 "metadata": {
  "kernelspec": {
   "display_name": "Python 3 (ipykernel)",
   "language": "python",
   "name": "python3"
  },
  "language_info": {
   "codemirror_mode": {
    "name": "ipython",
    "version": 3
   },
   "file_extension": ".py",
   "mimetype": "text/x-python",
   "name": "python",
   "nbconvert_exporter": "python",
   "pygments_lexer": "ipython3",
   "version": "3.11.5"
  }
 },
 "nbformat": 4,
 "nbformat_minor": 5
}
